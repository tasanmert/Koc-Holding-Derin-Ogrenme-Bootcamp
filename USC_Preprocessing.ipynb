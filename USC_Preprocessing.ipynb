{
  "nbformat": 4,
  "nbformat_minor": 0,
  "metadata": {
    "colab": {
      "provenance": [],
      "collapsed_sections": []
    },
    "kernelspec": {
      "name": "python3",
      "display_name": "Python 3"
    },
    "language_info": {
      "name": "python"
    }
  },
  "cells": [
    {
      "cell_type": "code",
      "execution_count": 1,
      "metadata": {
        "id": "IgIUI-2Lmr6B"
      },
      "outputs": [],
      "source": [
        "import os\n",
        "import matplotlib.pyplot as plt\n",
        "import cv2\n",
        "import pandas as pd\n",
        "import numpy as np\n",
        "from sklearn.model_selection import train_test_split"
      ]
    },
    {
      "cell_type": "code",
      "source": [
        "from google.colab import drive\n",
        "drive.mount('/content/GDrive/')"
      ],
      "metadata": {
        "colab": {
          "base_uri": "https://localhost:8080/"
        },
        "id": "osyx1aqz2rzi",
        "outputId": "966ed00c-9bbc-4eac-af16-217cc6675956"
      },
      "execution_count": 2,
      "outputs": [
        {
          "output_type": "stream",
          "name": "stdout",
          "text": [
            "Mounted at /content/GDrive/\n"
          ]
        }
      ]
    },
    {
      "cell_type": "markdown",
      "source": [
        "## **Preprocessing / Train, Test, Validation**"
      ],
      "metadata": {
        "id": "AZFTZOZDHrJw"
      }
    },
    {
      "cell_type": "code",
      "source": [
        "directory = \"/content/GDrive/MyDrive/BootCamps/spectrograms\""
      ],
      "metadata": {
        "id": "VL_ukEqsGORA"
      },
      "execution_count": 7,
      "outputs": []
    },
    {
      "cell_type": "code",
      "source": [
        "categories = [0,1,2,3,4,5,6,7,8,9]\n",
        "X = []\n",
        "y = []\n",
        "\n",
        "for classes in categories:    \n",
        "    path = os.path.join(directory, str(classes))            \n",
        "    for img in os.listdir(path):\n",
        "        img_array = cv2.imread(os.path.join(path,img), cv2.IMREAD_GRAYSCALE)\n",
        "        IMG_SIZE = 32\n",
        "        img_array = cv2.resize(img_array, (IMG_SIZE, IMG_SIZE))\n",
        "        img_array = img_array / 255\n",
        "        X.append(img_array)\n",
        "        y.append(classes)"
      ],
      "metadata": {
        "id": "U5oiK3ZFGpxs"
      },
      "execution_count": 8,
      "outputs": []
    },
    {
      "cell_type": "code",
      "source": [
        "X = np.array(X).reshape(-1, IMG_SIZE, IMG_SIZE, 1)\n",
        "y = np.array(y)"
      ],
      "metadata": {
        "id": "H6s18ZhcPdds"
      },
      "execution_count": 9,
      "outputs": []
    },
    {
      "cell_type": "code",
      "source": [
        "X_train, X_temporary, y_train, y_temporary = train_test_split(X, y, train_size=0.8, random_state=42)\n",
        "X_val, X_test, y_val, y_test = train_test_split(X_temporary, y_temporary, train_size=0.5, random_state=42)\n",
        "\n",
        "print(len(X_train))\n",
        "print(len(X_val))\n",
        "print(len(X_test))\n"
      ],
      "metadata": {
        "colab": {
          "base_uri": "https://localhost:8080/"
        },
        "id": "cprPK_Y4Ll1h",
        "outputId": "b2288248-fe64-4112-d401-475064df7e06"
      },
      "execution_count": 10,
      "outputs": [
        {
          "output_type": "stream",
          "name": "stdout",
          "text": [
            "6985\n",
            "873\n",
            "874\n"
          ]
        }
      ]
    },
    {
      "cell_type": "code",
      "source": [
        "np.save(\"X_train.npy\", X_train)\n",
        "np.save(\"y_train.npy\", y_train)\n",
        "np.save(\"X_val.npy\", X_val)\n",
        "np.save(\"y_val.npy\", y_val)\n",
        "np.save(\"X_test.npy\", X_test)\n",
        "np.save(\"y_test.npy\", y_test)"
      ],
      "metadata": {
        "id": "8QZnD4nYL1u6"
      },
      "execution_count": 15,
      "outputs": []
    },
    {
      "cell_type": "code",
      "source": [],
      "metadata": {
        "id": "sKL2-9BBPAPI"
      },
      "execution_count": null,
      "outputs": []
    }
  ]
}
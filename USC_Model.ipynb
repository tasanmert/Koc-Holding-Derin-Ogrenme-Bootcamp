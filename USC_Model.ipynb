{
  "nbformat": 4,
  "nbformat_minor": 0,
  "metadata": {
    "colab": {
      "provenance": []
    },
    "kernelspec": {
      "name": "python3",
      "display_name": "Python 3"
    },
    "language_info": {
      "name": "python"
    }
  },
  "cells": [
    {
      "cell_type": "code",
      "source": [
        "import numpy as np\n",
        "import tensorflow as tf\n",
        "import matplotlib.pyplot as plt"
      ],
      "metadata": {
        "id": "dU_PsVqaRbSV"
      },
      "execution_count": 2,
      "outputs": []
    },
    {
      "cell_type": "code",
      "execution_count": 1,
      "metadata": {
        "colab": {
          "base_uri": "https://localhost:8080/",
          "height": 0
        },
        "id": "_oP7z-oFRLEi",
        "outputId": "f0b5155e-0b3d-4151-9976-698bd9390acc"
      },
      "outputs": [
        {
          "output_type": "stream",
          "name": "stdout",
          "text": [
            "Mounted at /content/drive\n"
          ]
        }
      ],
      "source": [
        "from google.colab import drive\n",
        "drive.mount('/content/drive')"
      ]
    },
    {
      "cell_type": "code",
      "source": [
        "X_train = np.load(\"/content/drive/MyDrive/BootCamps/X_train.npy\")\n",
        "y_train = np.load(\"/content/drive/MyDrive/BootCamps/y_train.npy\")\n",
        "X_val = np.load(\"/content/drive/MyDrive/BootCamps/X_val.npy\")\n",
        "y_val = np.load(\"/content/drive/MyDrive/BootCamps/y_val.npy\")\n",
        "X_test = np.load(\"/content/drive/MyDrive/BootCamps/X_test.npy\")\n",
        "y_test = np.load(\"/content/drive/MyDrive/BootCamps/y_test.npy\")"
      ],
      "metadata": {
        "id": "YzLyzNuyRcUI"
      },
      "execution_count": 5,
      "outputs": []
    },
    {
      "cell_type": "code",
      "source": [
        "model = tf.keras.Sequential()\n",
        "\n",
        "model.add(tf.keras.layers.Conv2D(32, kernel_size=(3,3), strides=(1,1), padding=\"same\", activation=\"relu\", input_shape=(32,32,1)))\n",
        "model.add(tf.keras.layers.MaxPooling2D((2,2)))\n",
        "\n",
        "model.add(tf.keras.layers.Conv2D(64, kernel_size=(3,3), strides=(1,1), padding=\"same\", activation=\"relu\"))\n",
        "model.add(tf.keras.layers.MaxPooling2D((2,2)))\n",
        "model.add(tf.keras.layers.Conv2D(64, kernel_size=(3,3), strides=(1,1), padding=\"same\", activation=\"relu\"))\n",
        "\n",
        "model.add(tf.keras.layers.Flatten())\n",
        "\n",
        "model.add(tf.keras.layers.Dense(64, activation=\"relu\"))\n",
        "model.add(tf.keras.layers.Dropout(0.5))\n",
        "\n",
        "model.add(tf.keras.layers.Dense(64, activation=\"relu\"))\n",
        "model.add(tf.keras.layers.Dropout(0.5))\n",
        "\n",
        "model.add(tf.keras.layers.Dense(10, activation=\"softmax\"))\n",
        "\n",
        "model.compile(optimizer=\"adam\", loss=\"sparse_categorical_crossentropy\", metrics=[\"accuracy\"])\n",
        "\n",
        "final = model.fit(X_train, y_train, batch_size=128, epochs=50, validation_data=(X_val, y_val))\n",
        "\n"
      ],
      "metadata": {
        "colab": {
          "base_uri": "https://localhost:8080/",
          "height": 0
        },
        "id": "Aij_D-W-SYI3",
        "outputId": "046ec885-7d38-482e-f61b-063d3a4f3269"
      },
      "execution_count": 6,
      "outputs": [
        {
          "output_type": "stream",
          "name": "stdout",
          "text": [
            "Epoch 1/50\n",
            "55/55 [==============================] - 20s 339ms/step - loss: 2.1227 - accuracy: 0.2103 - val_loss: 1.8147 - val_accuracy: 0.3700\n",
            "Epoch 2/50\n",
            "55/55 [==============================] - 19s 351ms/step - loss: 1.7964 - accuracy: 0.3341 - val_loss: 1.4176 - val_accuracy: 0.5384\n",
            "Epoch 3/50\n",
            "55/55 [==============================] - 13s 229ms/step - loss: 1.5981 - accuracy: 0.4248 - val_loss: 1.2506 - val_accuracy: 0.5659\n",
            "Epoch 4/50\n",
            "55/55 [==============================] - 15s 266ms/step - loss: 1.4586 - accuracy: 0.4829 - val_loss: 1.1688 - val_accuracy: 0.6094\n",
            "Epoch 5/50\n",
            "55/55 [==============================] - 16s 284ms/step - loss: 1.3552 - accuracy: 0.5250 - val_loss: 1.0366 - val_accuracy: 0.6873\n",
            "Epoch 6/50\n",
            "55/55 [==============================] - 15s 273ms/step - loss: 1.2461 - accuracy: 0.5735 - val_loss: 0.9396 - val_accuracy: 0.7503\n",
            "Epoch 7/50\n",
            "55/55 [==============================] - 15s 280ms/step - loss: 1.1635 - accuracy: 0.6083 - val_loss: 0.8696 - val_accuracy: 0.7491\n",
            "Epoch 8/50\n",
            "55/55 [==============================] - 13s 230ms/step - loss: 1.0892 - accuracy: 0.6366 - val_loss: 0.8924 - val_accuracy: 0.7491\n",
            "Epoch 9/50\n",
            "55/55 [==============================] - 13s 229ms/step - loss: 1.0324 - accuracy: 0.6583 - val_loss: 0.7916 - val_accuracy: 0.7881\n",
            "Epoch 10/50\n",
            "55/55 [==============================] - 13s 230ms/step - loss: 0.9981 - accuracy: 0.6723 - val_loss: 0.7380 - val_accuracy: 0.7686\n",
            "Epoch 11/50\n",
            "55/55 [==============================] - 13s 230ms/step - loss: 0.9423 - accuracy: 0.6843 - val_loss: 0.7446 - val_accuracy: 0.7824\n",
            "Epoch 12/50\n",
            "55/55 [==============================] - 13s 229ms/step - loss: 0.8890 - accuracy: 0.7054 - val_loss: 0.7008 - val_accuracy: 0.8076\n",
            "Epoch 13/50\n",
            "55/55 [==============================] - 13s 237ms/step - loss: 0.8540 - accuracy: 0.7261 - val_loss: 0.6358 - val_accuracy: 0.8190\n",
            "Epoch 14/50\n",
            "55/55 [==============================] - 14s 252ms/step - loss: 0.8103 - accuracy: 0.7310 - val_loss: 0.6662 - val_accuracy: 0.8030\n",
            "Epoch 15/50\n",
            "55/55 [==============================] - 12s 227ms/step - loss: 0.8004 - accuracy: 0.7343 - val_loss: 0.6110 - val_accuracy: 0.8270\n",
            "Epoch 16/50\n",
            "55/55 [==============================] - 13s 230ms/step - loss: 0.7497 - accuracy: 0.7530 - val_loss: 0.6177 - val_accuracy: 0.8270\n",
            "Epoch 17/50\n",
            "55/55 [==============================] - 13s 229ms/step - loss: 0.7129 - accuracy: 0.7695 - val_loss: 0.5725 - val_accuracy: 0.8362\n",
            "Epoch 18/50\n",
            "55/55 [==============================] - 13s 228ms/step - loss: 0.7075 - accuracy: 0.7696 - val_loss: 0.5616 - val_accuracy: 0.8328\n",
            "Epoch 19/50\n",
            "55/55 [==============================] - 15s 280ms/step - loss: 0.6654 - accuracy: 0.7817 - val_loss: 0.5598 - val_accuracy: 0.8442\n",
            "Epoch 20/50\n",
            "55/55 [==============================] - 13s 229ms/step - loss: 0.6231 - accuracy: 0.7960 - val_loss: 0.5537 - val_accuracy: 0.8373\n",
            "Epoch 21/50\n",
            "55/55 [==============================] - 13s 229ms/step - loss: 0.6394 - accuracy: 0.7948 - val_loss: 0.5300 - val_accuracy: 0.8477\n",
            "Epoch 22/50\n",
            "55/55 [==============================] - 13s 229ms/step - loss: 0.5876 - accuracy: 0.8097 - val_loss: 0.5515 - val_accuracy: 0.8499\n",
            "Epoch 23/50\n",
            "55/55 [==============================] - 13s 229ms/step - loss: 0.5723 - accuracy: 0.8103 - val_loss: 0.5345 - val_accuracy: 0.8511\n",
            "Epoch 24/50\n",
            "55/55 [==============================] - 13s 228ms/step - loss: 0.5512 - accuracy: 0.8182 - val_loss: 0.5384 - val_accuracy: 0.8591\n",
            "Epoch 25/50\n",
            "55/55 [==============================] - 13s 229ms/step - loss: 0.5390 - accuracy: 0.8188 - val_loss: 0.5016 - val_accuracy: 0.8671\n",
            "Epoch 26/50\n",
            "55/55 [==============================] - 13s 228ms/step - loss: 0.5318 - accuracy: 0.8263 - val_loss: 0.5350 - val_accuracy: 0.8648\n",
            "Epoch 27/50\n",
            "55/55 [==============================] - 13s 228ms/step - loss: 0.5111 - accuracy: 0.8326 - val_loss: 0.4947 - val_accuracy: 0.8637\n",
            "Epoch 28/50\n",
            "55/55 [==============================] - 13s 229ms/step - loss: 0.4758 - accuracy: 0.8409 - val_loss: 0.5542 - val_accuracy: 0.8431\n",
            "Epoch 29/50\n",
            "55/55 [==============================] - 13s 228ms/step - loss: 0.4723 - accuracy: 0.8428 - val_loss: 0.4955 - val_accuracy: 0.8660\n",
            "Epoch 30/50\n",
            "55/55 [==============================] - 13s 228ms/step - loss: 0.4585 - accuracy: 0.8467 - val_loss: 0.5046 - val_accuracy: 0.8717\n",
            "Epoch 31/50\n",
            "55/55 [==============================] - 13s 228ms/step - loss: 0.4443 - accuracy: 0.8540 - val_loss: 0.4964 - val_accuracy: 0.8717\n",
            "Epoch 32/50\n",
            "55/55 [==============================] - 13s 228ms/step - loss: 0.4348 - accuracy: 0.8535 - val_loss: 0.4948 - val_accuracy: 0.8625\n",
            "Epoch 33/50\n",
            "55/55 [==============================] - 13s 229ms/step - loss: 0.4284 - accuracy: 0.8580 - val_loss: 0.5088 - val_accuracy: 0.8660\n",
            "Epoch 34/50\n",
            "55/55 [==============================] - 13s 228ms/step - loss: 0.3942 - accuracy: 0.8634 - val_loss: 0.4881 - val_accuracy: 0.8797\n",
            "Epoch 35/50\n",
            "55/55 [==============================] - 13s 228ms/step - loss: 0.3880 - accuracy: 0.8690 - val_loss: 0.5073 - val_accuracy: 0.8751\n",
            "Epoch 36/50\n",
            "55/55 [==============================] - 12s 227ms/step - loss: 0.3681 - accuracy: 0.8740 - val_loss: 0.5342 - val_accuracy: 0.8717\n",
            "Epoch 37/50\n",
            "55/55 [==============================] - 14s 264ms/step - loss: 0.3613 - accuracy: 0.8737 - val_loss: 0.5575 - val_accuracy: 0.8729\n",
            "Epoch 38/50\n",
            "55/55 [==============================] - 13s 229ms/step - loss: 0.3509 - accuracy: 0.8799 - val_loss: 0.5711 - val_accuracy: 0.8648\n",
            "Epoch 39/50\n",
            "55/55 [==============================] - 13s 228ms/step - loss: 0.3523 - accuracy: 0.8803 - val_loss: 0.5464 - val_accuracy: 0.8694\n",
            "Epoch 40/50\n",
            "55/55 [==============================] - 13s 229ms/step - loss: 0.3383 - accuracy: 0.8829 - val_loss: 0.5790 - val_accuracy: 0.8660\n",
            "Epoch 41/50\n",
            "55/55 [==============================] - 13s 228ms/step - loss: 0.3289 - accuracy: 0.8832 - val_loss: 0.5572 - val_accuracy: 0.8683\n",
            "Epoch 42/50\n",
            "55/55 [==============================] - 13s 228ms/step - loss: 0.3318 - accuracy: 0.8853 - val_loss: 0.5417 - val_accuracy: 0.8809\n",
            "Epoch 43/50\n",
            "55/55 [==============================] - 13s 228ms/step - loss: 0.3524 - accuracy: 0.8832 - val_loss: 0.5833 - val_accuracy: 0.8625\n",
            "Epoch 44/50\n",
            "55/55 [==============================] - 13s 229ms/step - loss: 0.3260 - accuracy: 0.8856 - val_loss: 0.5623 - val_accuracy: 0.8740\n",
            "Epoch 45/50\n",
            "55/55 [==============================] - 13s 229ms/step - loss: 0.3088 - accuracy: 0.8923 - val_loss: 0.5727 - val_accuracy: 0.8717\n",
            "Epoch 46/50\n",
            "55/55 [==============================] - 13s 228ms/step - loss: 0.3011 - accuracy: 0.8976 - val_loss: 0.5761 - val_accuracy: 0.8843\n",
            "Epoch 47/50\n",
            "55/55 [==============================] - 13s 230ms/step - loss: 0.2741 - accuracy: 0.9054 - val_loss: 0.5756 - val_accuracy: 0.8832\n",
            "Epoch 48/50\n",
            "55/55 [==============================] - 13s 229ms/step - loss: 0.2812 - accuracy: 0.9011 - val_loss: 0.5708 - val_accuracy: 0.8797\n",
            "Epoch 49/50\n",
            "55/55 [==============================] - 13s 228ms/step - loss: 0.2660 - accuracy: 0.9068 - val_loss: 0.6306 - val_accuracy: 0.8855\n",
            "Epoch 50/50\n",
            "55/55 [==============================] - 12s 227ms/step - loss: 0.2799 - accuracy: 0.9029 - val_loss: 0.5563 - val_accuracy: 0.8843\n"
          ]
        }
      ]
    },
    {
      "cell_type": "code",
      "source": [
        "plt.plot(final.history[\"loss\"], label = \"Train\")\n",
        "plt.plot(final.history[\"val_loss\"], label = \"Val\")\n",
        "plt.ylabel(\"loss\")\n",
        "plt.xlabel(\"epoch\")\n",
        "plt.legend()\n",
        "plt.show()"
      ],
      "metadata": {
        "colab": {
          "base_uri": "https://localhost:8080/",
          "height": 279
        },
        "id": "e1_nT9T5Spzu",
        "outputId": "cfce37e5-b09f-494e-a8ba-9700de1dd2a1"
      },
      "execution_count": 10,
      "outputs": [
        {
          "output_type": "display_data",
          "data": {
            "text/plain": [
              "<Figure size 432x288 with 1 Axes>"
            ],
            "image/png": "[encoded data removed]"
          },
          "metadata": {
            "needs_background": "light"
          }
        }
      ]
    },
    {
      "cell_type": "code",
      "source": [
        "plt.plot(final.history[\"accuracy\"], label = \"Train\")\n",
        "plt.plot(final.history[\"val_accuracy\"], label = \"Val\")\n",
        "plt.ylabel(\"accuracy\")\n",
        "plt.xlabel(\"epoch\")\n",
        "plt.legend()\n",
        "plt.show()"
      ],
      "metadata": {
        "colab": {
          "base_uri": "https://localhost:8080/",
          "height": 279
        },
        "id": "RB8zLVXCStkB",
        "outputId": "c1419b0f-6f64-4146-c6ee-a3fc23016612"
      },
      "execution_count": 11,
      "outputs": [
        {
          "output_type": "display_data",
          "data": {
            "text/plain": [
              "<Figure size 432x288 with 1 Axes>"
            ],
            "image/png": "[encoded data removed]"
          },
          "metadata": {
            "needs_background": "light"
          }
        }
      ]
    },
    {
      "cell_type": "code",
      "source": [
        "model.evaluate(X_test, y_test)"
      ],
      "metadata": {
        "colab": {
          "base_uri": "https://localhost:8080/",
          "height": 0
        },
        "id": "TXfQ9OOHS9z2",
        "outputId": "74198717-3577-4a85-8e08-6b4059f68c76"
      },
      "execution_count": 12,
      "outputs": [
        {
          "output_type": "stream",
          "name": "stdout",
          "text": [
            "28/28 [==============================] - 1s 18ms/step - loss: 0.5207 - accuracy: 0.8661\n"
          ]
        },
        {
          "output_type": "execute_result",
          "data": {
            "text/plain": [
              "[0.5206901431083679, 0.8661327362060547]"
            ]
          },
          "metadata": {},
          "execution_count": 12
        }
      ]
    },
    {
      "cell_type": "code",
      "source": [
        "test_result = model.test_on_batch(X_test, y_test)\n",
        "print(test_result)"
      ],
      "metadata": {
        "colab": {
          "base_uri": "https://localhost:8080/",
          "height": 0
        },
        "id": "o7RxAtBGSuO2",
        "outputId": "7ab2445f-8709-42ac-ac24-47361e4493a5"
      },
      "execution_count": 13,
      "outputs": [
        {
          "output_type": "stream",
          "name": "stdout",
          "text": [
            "[0.5206900238990784, 0.8661327362060547]\n"
          ]
        }
      ]
    },
    {
      "cell_type": "code",
      "source": [
        "prediction_result = model.predict(X_test[320].reshape(1,32,32,1))\n",
        "prediction_result"
      ],
      "metadata": {
        "colab": {
          "base_uri": "https://localhost:8080/",
          "height": 0
        },
        "id": "uAiLsiklX779",
        "outputId": "9ed1e24a-aa33-44b6-ce72-9066bc2cc944"
      },
      "execution_count": 19,
      "outputs": [
        {
          "output_type": "execute_result",
          "data": {
            "text/plain": [
              "array([[9.1077901e-21, 2.6512293e-26, 7.0850908e-11, 1.0000000e+00,\n",
              "        1.0066371e-14, 1.4008502e-20, 1.2044931e-21, 1.2046273e-27,\n",
              "        3.5675435e-15, 1.5132922e-15]], dtype=float32)"
            ]
          },
          "metadata": {},
          "execution_count": 19
        }
      ]
    },
    {
      "cell_type": "code",
      "source": [
        "predicted_class = prediction_result.argmax()\n",
        "predicted_probability = prediction_result.max()"
      ],
      "metadata": {
        "id": "oCkY2OcZYTqe"
      },
      "execution_count": 20,
      "outputs": []
    },
    {
      "cell_type": "code",
      "source": [
        "print(f\"Image class {predicted_class} with {predicted_probability} probability.\")\n",
        "plt.imshow(prediction_result)"
      ],
      "metadata": {
        "colab": {
          "base_uri": "https://localhost:8080/",
          "height": 121
        },
        "id": "WSfniw1MYYC-",
        "outputId": "4b2bd309-5f14-4c65-efd0-90563e33d012"
      },
      "execution_count": 22,
      "outputs": [
        {
          "output_type": "stream",
          "name": "stdout",
          "text": [
            "Image class 3 with 1.0 probability.\n"
          ]
        },
        {
          "output_type": "execute_result",
          "data": {
            "text/plain": [
              "<matplotlib.image.AxesImage at 0x7f5501452710>"
            ]
          },
          "metadata": {},
          "execution_count": 22
        },
        {
          "output_type": "display_data",
          "data": {
            "text/plain": [
              "<Figure size 432x288 with 1 Axes>"
            ],
            "image/png": "[encoded data removed]"
          },
          "metadata": {
            "needs_background": "light"
          }
        }
      ]
    }
  ]
}